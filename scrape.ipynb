{
 "cells": [
  {
   "cell_type": "code",
   "execution_count": 1,
   "metadata": {
    "collapsed": true
   },
   "outputs": [],
   "source": [
    "import requests\n",
    "from bs4 import BeautifulSoup\n",
    "import time\n",
    "import re\n",
    "import csv"
   ]
  },
  {
   "cell_type": "code",
   "execution_count": 2,
   "metadata": {
    "collapsed": false
   },
   "outputs": [],
   "source": [
    "ta = \"https://www.tripadvisor.com\""
   ]
  },
  {
   "cell_type": "code",
   "execution_count": 3,
   "metadata": {
    "collapsed": true
   },
   "outputs": [],
   "source": [
    "pg_nos = [ \"\", \"oa30-\",\"oa60-\"]"
   ]
  },
  {
   "cell_type": "code",
   "execution_count": 4,
   "metadata": {
    "collapsed": true
   },
   "outputs": [],
   "source": [
    "hotel_list = []\n",
    "hotel_links = []"
   ]
  },
  {
   "cell_type": "code",
   "execution_count": 5,
   "metadata": {
    "collapsed": false
   },
   "outputs": [],
   "source": [
    "for pg in pg_nos:\n",
    "    r = requests.get(\"https://www.tripadvisor.com/Hotels-g60745-\"+ str(pg) +\"Boston_Massachusetts-Hotels.html\")\n",
    "    soup = BeautifulSoup(r.content,\"lxml\")\n",
    "    hotels = soup.find_all(\"div\", {\"class\" : \"listing easyClear p13n_imperfect \"})\n",
    "    for hotel in hotels:\n",
    "        for h in (hotel.contents[1].find_all(\"a\",{\"class\":\"property_title\"})):\n",
    "            hotel_list.append(h.text)\n",
    "            hotel_links.append( ta + h.attrs[\"href\"])           "
   ]
  },
  {
   "cell_type": "code",
   "execution_count": 6,
   "metadata": {
    "collapsed": true
   },
   "outputs": [],
   "source": [
    "rating_numbers = [5,4,3,2,1]"
   ]
  },
  {
   "cell_type": "markdown",
   "metadata": {},
   "source": [
    "# Traveller Ratings"
   ]
  },
  {
   "cell_type": "code",
   "execution_count": 7,
   "metadata": {
    "collapsed": false
   },
   "outputs": [
    {
     "data": {
      "text/plain": [
       "25"
      ]
     },
     "execution_count": 7,
     "metadata": {},
     "output_type": "execute_result"
    }
   ],
   "source": [
    "header = (\"hotel_name\", \"rating\", \"count\")\n",
    "f = open('traverler_ratings.csv',\"w\", newline='\\n' )\n",
    "tr_writer = csv.writer(f)\n",
    "tr_writer.writerow(header)"
   ]
  },
  {
   "cell_type": "code",
   "execution_count": 8,
   "metadata": {
    "collapsed": false
   },
   "outputs": [],
   "source": [
    "for index, link in enumerate(hotel_links):\n",
    "    \n",
    "    r = requests.get(link)\n",
    "    soup = BeautifulSoup(r.content,\"lxml\")\n",
    "    ratings = soup.find_all(\"div\", {\"id\" : \"ratingFilter\"})\n",
    "    for h in ratings:\n",
    "        for n in rating_numbers:\n",
    "            for i in (h.contents[3].find_all(\"label\",{\"for\":\"taplc_prodp13n_hr_sur_review_filter_controls_0_filterRating_\"+str(n)})):\n",
    "                a =  (\" \".join((i.text).split())).rsplit(' ',1)\n",
    "                tr_writer.writerow((hotel_list[index], a[0], a[1]))"
   ]
  },
  {
   "cell_type": "code",
   "execution_count": 9,
   "metadata": {
    "collapsed": true
   },
   "outputs": [],
   "source": [
    "f.close()"
   ]
  },
  {
   "cell_type": "markdown",
   "metadata": {},
   "source": [
    "# Attribute Rating"
   ]
  },
  {
   "cell_type": "code",
   "execution_count": 10,
   "metadata": {
    "collapsed": false
   },
   "outputs": [
    {
     "data": {
      "text/plain": [
       "43"
      ]
     },
     "execution_count": 10,
     "metadata": {},
     "output_type": "execute_result"
    }
   ],
   "source": [
    "new_heading = (\"hotel_name\", \"review_id\", \"attribute\", \"star_value\")    # Creates the CSV file\n",
    "fi = open('attribute_ratings.csv',\"w\", newline='\\n' )\n",
    "new_writer = csv.writer(fi)\n",
    "new_writer.writerow(new_heading)"
   ]
  },
  {
   "cell_type": "code",
   "execution_count": 11,
   "metadata": {
    "collapsed": false
   },
   "outputs": [],
   "source": [
    "def page_numbers( url ):   # To calculate all the page numbers of the reviews for a given hotel\n",
    "    r = requests.get(url)\n",
    "    soup = BeautifulSoup(r.content,\"lxml\")\n",
    "    a = (soup.find_all(\"div\", {\"class\":\"pageNumbers\"}))\n",
    "    for i in a:\n",
    "        b = (i.text) \n",
    "    x = re.sub('\\n',\"-\",b)\n",
    "    return (int(x.split(\"-\")[-2]))"
   ]
  },
  {
   "cell_type": "code",
   "execution_count": 12,
   "metadata": {
    "collapsed": false
   },
   "outputs": [],
   "source": [
    "def page_reviews(page_url,h):   # Creates the url for each review in a page and sends it to ratings_review function\n",
    "    r = requests.get(page_url)\n",
    "    soup = BeautifulSoup(r.content,\"lxml\")\n",
    "    review = soup.find_all(\"div\", {\"class\":\"reviewSelector\"})\n",
    "    for stuff in review:\n",
    "        review_id = stuff.attrs[\"id\"][7:]\n",
    "        rn = \"rn\" + review_id\n",
    "        for rh in stuff.find_all(\"a\",{\"id\":rn}):\n",
    "            ratings_review(ta + rh.attrs[\"href\"],review_id,h) "
   ]
  },
  {
   "cell_type": "code",
   "execution_count": 13,
   "metadata": {
    "collapsed": false
   },
   "outputs": [],
   "source": [
    "def ratings_review(url,review_id,h):  # Looks at each review \n",
    "    global  writer                # Glabal list for all hotel reviews and attribute stars\n",
    "    rr = requests.get(url)\n",
    "    soupp = BeautifulSoup(rr.content,\"lxml\")\n",
    "    rev =  \"review_\" + str(review_id)\n",
    "    revieww = soupp.find_all(\"div\", {\"id\":rev})   \n",
    "    values,keys = [], []\n",
    "    for i in revieww:\n",
    "        for j in (i.find_all(\"span\",{\"class\":\"rate sprite-rating_ss rating_ss\"})):\n",
    "            values.append(j.contents[1].attrs[\"alt\"][0])     # Gets the stars for each attribute of a review\n",
    "        for j in (i.find_all(\"div\",{\"class\":\"recommend-description\"})):   \n",
    "            keys.append((j.contents)[0])                     # Gets the attribute name\n",
    "        a = list(zip(keys,values))\n",
    "        if a != []:                                         # Checks if rating has an attribute\n",
    "            for i in a:\n",
    "                new_writer.writerow((h,review_id,i[0],i[1]))"
   ]
  },
  {
   "cell_type": "code",
   "execution_count": 14,
   "metadata": {
    "collapsed": false
   },
   "outputs": [
    {
     "name": "stdout",
     "output_type": "stream",
     "text": [
      "0 Fri Dec 30 18:18:47 2016 Marriott Vacation Club Pulse at Custom House, Boston\n",
      "1 Fri Dec 30 18:32:08 2016 Seaport Boston Hotel\n",
      "2 Fri Dec 30 19:42:54 2016 Four Seasons Hotel Boston\n",
      "3 Fri Dec 30 20:08:20 2016 Boston Harbor Hotel\n",
      "4 Fri Dec 30 20:37:14 2016 Lenox Hotel\n",
      "5 Fri Dec 30 21:28:54 2016 Courtyard Boston Copley Square\n",
      "6 Fri Dec 30 21:54:40 2016 InterContinental Boston\n",
      "7 Fri Dec 30 22:52:39 2016 Mandarin Oriental, Boston\n",
      "8 Fri Dec 30 23:02:46 2016 Hotel Commonwealth\n",
      "9 Sat Dec 31 00:09:55 2016 Residence Inn by Marriott Boston Back Bay/Fenway\n",
      "10 Sat Dec 31 00:31:00 2016 Eliot Hotel\n",
      "11 Sat Dec 31 00:49:40 2016 XV Beacon\n",
      "12 Sat Dec 31 01:07:07 2016 Hilton Garden Inn Boston Logan Airport\n",
      "13 Sat Dec 31 01:17:39 2016 Residence Inn Boston Downtown/Seaport\n",
      "14 Sat Dec 31 01:24:30 2016 The Verb Hotel\n",
      "15 Sat Dec 31 01:47:51 2016 Kimpton Nine Zero Hotel\n",
      "16 Sat Dec 31 02:28:07 2016 The Godfrey Hotel Boston\n",
      "17 Sat Dec 31 02:54:07 2016 The Boxer Boston\n",
      "18 Sat Dec 31 03:07:55 2016 The Langham, Boston\n",
      "19 Sat Dec 31 03:40:18 2016 enVision Hotel Boston - Longwood\n",
      "20 Sat Dec 31 03:49:51 2016 Colonnade Hotel\n",
      "21 Sat Dec 31 04:33:31 2016 Loews Boston Hotel\n",
      "22 Sat Dec 31 04:55:11 2016 Residence Inn Boston Harbor on Tudor Wharf\n",
      "23 Sat Dec 31 05:08:40 2016 Fairmont Copley Plaza, Boston\n",
      "24 Sat Dec 31 05:52:21 2016 The Ritz-Carlton, Boston\n",
      "25 Sat Dec 31 06:02:38 2016 Copley Square Hotel\n",
      "26 Sat Dec 31 06:27:00 2016 W Boston\n",
      "27 Sat Dec 31 06:51:31 2016 Newbury Guest House\n",
      "28 Sat Dec 31 06:59:37 2016 Taj Boston\n",
      "29 Sat Dec 31 07:35:27 2016 The Westin Copley Place, Boston\n",
      "30 Sat Dec 31 08:36:44 2016 The Bostonian Boston\n",
      "31 Sat Dec 31 09:02:45 2016 Hyatt Regency Boston\n",
      "32 Sat Dec 31 09:53:28 2016 The Envoy Hotel, Autograph Collection\n",
      "33 Sat Dec 31 09:59:06 2016 Hyatt Regency Boston Harbor\n",
      "34 Sat Dec 31 10:32:57 2016 Kimpton Onyx Hotel\n",
      "35 Sat Dec 31 10:56:46 2016 The Liberty, A Luxury Collection Hotel\n",
      "36 Sat Dec 31 11:02:18 2016 Boston Marriott Long Wharf\n",
      "37 Sat Dec 31 11:35:56 2016 The Westin Boston Waterfront\n",
      "38 Sat Dec 31 12:17:41 2016 Revere Hotel Boston Common\n",
      "39 Sat Dec 31 13:13:16 2016 Renaissance Boston Waterfront Hotel\n",
      "40 Sat Dec 31 13:33:09 2016 DoubleTree by Hilton Hotel Boston - Downtown\n",
      "41 Sat Dec 31 13:49:56 2016 Ames Boston Hotel, Curio Collection by Hilton\n",
      "42 Sat Dec 31 14:08:50 2016 Omni Parker House\n",
      "43 Sat Dec 31 15:57:55 2016 The Inn At St Botolph\n",
      "44 Sat Dec 31 16:06:22 2016 Sheraton Boston Hotel\n",
      "45 Sat Dec 31 16:34:38 2016 Harborside Inn\n",
      "46 Sat Dec 31 16:54:09 2016 The Inn at Longwood Medical\n",
      "47 Sat Dec 31 17:10:29 2016 Club Quarters Hotel in Boston\n",
      "48 Sat Dec 31 17:35:22 2016 Battery Wharf Hotel, Boston Waterfront\n",
      "49 Sat Dec 31 17:54:43 2016 Boston Marriott Copley Place\n",
      "50 Sat Dec 31 18:39:29 2016 DoubleTree Suites by Hilton Boston-Cambridge\n",
      "51 Sat Dec 31 19:05:49 2016 Hotel 140\n",
      "52 Sat Dec 31 19:33:16 2016 Holiday Inn Express Boston\n",
      "53 Sat Dec 31 19:43:26 2016 Charlesmark Hotel\n",
      "54 Sat Dec 31 19:55:56 2016 Hilton Boston Back Bay\n",
      "55 Sat Dec 31 20:38:13 2016 Boston Park Plaza\n",
      "56 Sat Dec 31 20:56:45 2016 Hilton Boston Downtown / Faneuil Hall\n",
      "57 Sat Dec 31 21:24:42 2016 DoubleTree Club by Hilton Hotel Boston Bayside\n",
      "58 Sat Dec 31 21:46:55 2016 Embassy Suites by Hilton Boston - at Logan Airport\n",
      "59 Sat Dec 31 22:20:41 2016 Hilton Boston Logan Airport\n",
      "60 Sat Dec 31 23:09:11 2016 Hampton Inn & Suites Boston Crosstown Center\n",
      "61 Sat Dec 31 23:24:41 2016 Element Boston Seaport\n",
      "62 Sat Dec 31 23:26:03 2016 Wyndham Boston Beacon Hill\n",
      "63 Sat Dec 31 23:53:10 2016 Chandler Inn\n",
      "64 Sun Jan  1 00:07:35 2017 Boston Hotel Buckminster\n",
      "65 Sun Jan  1 00:28:19 2017 The Midtown Hotel\n",
      "66 Sun Jan  1 01:12:53 2017 Copley House\n",
      "67 Sun Jan  1 01:21:54 2017 Aloft Boston Seaport\n",
      "68 Sun Jan  1 01:24:39 2017 Courtyard Boston Downtown\n",
      "69 Sun Jan  1 01:26:43 2017 Holiday Inn Express Hotel & Suites Boston Garden\n",
      "70 Sun Jan  1 01:34:29 2017 Courtyard Boston Logan Airport\n",
      "71 Sun Jan  1 01:45:29 2017 Beacon Hill Hotel and Bistro\n",
      "72 Sun Jan  1 01:48:50 2017 Courtyard Boston-South Boston\n",
      "73 Sun Jan  1 01:57:11 2017 Best Western Plus Boston Hotel\n",
      "74 Sun Jan  1 02:14:45 2017 Comfort Inn - Boston\n",
      "75 Sun Jan  1 02:18:35 2017 Hotel Boston\n",
      "76 Sun Jan  1 02:27:06 2017 Ramada Boston\n",
      "77 Sun Jan  1 02:31:41 2017 The Boston Common Hotel and Conference Center\n",
      "78 Sun Jan  1 02:41:44 2017 Found Hotel Boston Common\n",
      "79 Sun Jan  1 02:42:17 2017 Constitution Inn\n",
      "80 Sun Jan  1 02:52:01 2017 Days Hotel Boston-Harvard Fenway\n",
      "81 Sun Jan  1 02:56:38 2017 Americas Best Value Inn\n"
     ]
    }
   ],
   "source": [
    "for i in range(len(hotel_links)):        # calling the above functions on each hotel\n",
    "    print(i, time.asctime(), hotel_list[i] )\n",
    "    hotel = hotel_list[i]\n",
    "    hlink = hotel_links[i]\n",
    "    str1 = hlink\n",
    "    str2 = \"Reviews\"\n",
    "    ind = str1.index(str2) + len(str2)\n",
    "    for i in ( range( page_numbers(hlink) ) ):\n",
    "         page_reviews(hlink[:ind]+str(\"-or\")+str(i*10) + hlink[ind:] ,str(hotel))"
   ]
  },
  {
   "cell_type": "code",
   "execution_count": 15,
   "metadata": {
    "collapsed": true
   },
   "outputs": [],
   "source": [
    "fi.close()"
   ]
  }
 ],
 "metadata": {
  "anaconda-cloud": {},
  "kernelspec": {
   "display_name": "Python [conda root]",
   "language": "python",
   "name": "conda-root-py"
  },
  "language_info": {
   "codemirror_mode": {
    "name": "ipython",
    "version": 3
   },
   "file_extension": ".py",
   "mimetype": "text/x-python",
   "name": "python",
   "nbconvert_exporter": "python",
   "pygments_lexer": "ipython3",
   "version": "3.5.2"
  }
 },
 "nbformat": 4,
 "nbformat_minor": 0
}
